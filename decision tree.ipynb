{
 "cells": [
  {
   "cell_type": "code",
   "execution_count": 1,
   "id": "a397ee8c",
   "metadata": {},
   "outputs": [
    {
     "data": {
      "text/html": [
       "<div>\n",
       "<style scoped>\n",
       "    .dataframe tbody tr th:only-of-type {\n",
       "        vertical-align: middle;\n",
       "    }\n",
       "\n",
       "    .dataframe tbody tr th {\n",
       "        vertical-align: top;\n",
       "    }\n",
       "\n",
       "    .dataframe thead th {\n",
       "        text-align: right;\n",
       "    }\n",
       "</style>\n",
       "<table border=\"1\" class=\"dataframe\">\n",
       "  <thead>\n",
       "    <tr style=\"text-align: right;\">\n",
       "      <th></th>\n",
       "      <th>PassengerId</th>\n",
       "      <th>Survived</th>\n",
       "      <th>Pclass</th>\n",
       "      <th>Name</th>\n",
       "      <th>Sex</th>\n",
       "      <th>Age</th>\n",
       "      <th>SibSp</th>\n",
       "      <th>Parch</th>\n",
       "      <th>Ticket</th>\n",
       "      <th>Fare</th>\n",
       "      <th>Cabin</th>\n",
       "      <th>Embarked</th>\n",
       "    </tr>\n",
       "  </thead>\n",
       "  <tbody>\n",
       "    <tr>\n",
       "      <th>0</th>\n",
       "      <td>343</td>\n",
       "      <td>0</td>\n",
       "      <td>2</td>\n",
       "      <td>Collander, Mr. Erik Gustaf</td>\n",
       "      <td>1</td>\n",
       "      <td>28.0</td>\n",
       "      <td>0</td>\n",
       "      <td>0</td>\n",
       "      <td>248740</td>\n",
       "      <td>13.0000</td>\n",
       "      <td>G6</td>\n",
       "      <td>S</td>\n",
       "    </tr>\n",
       "    <tr>\n",
       "      <th>1</th>\n",
       "      <td>76</td>\n",
       "      <td>0</td>\n",
       "      <td>3</td>\n",
       "      <td>Moen, Mr. Sigurd Hansen</td>\n",
       "      <td>1</td>\n",
       "      <td>25.0</td>\n",
       "      <td>0</td>\n",
       "      <td>0</td>\n",
       "      <td>348123</td>\n",
       "      <td>7.6500</td>\n",
       "      <td>F G73</td>\n",
       "      <td>S</td>\n",
       "    </tr>\n",
       "    <tr>\n",
       "      <th>2</th>\n",
       "      <td>641</td>\n",
       "      <td>0</td>\n",
       "      <td>3</td>\n",
       "      <td>Jensen, Mr. Hans Peder</td>\n",
       "      <td>1</td>\n",
       "      <td>20.0</td>\n",
       "      <td>0</td>\n",
       "      <td>0</td>\n",
       "      <td>350050</td>\n",
       "      <td>7.8542</td>\n",
       "      <td>G6</td>\n",
       "      <td>S</td>\n",
       "    </tr>\n",
       "    <tr>\n",
       "      <th>3</th>\n",
       "      <td>568</td>\n",
       "      <td>0</td>\n",
       "      <td>3</td>\n",
       "      <td>Palsson, Mrs. Nils (Alma Cornelia Berglund)</td>\n",
       "      <td>0</td>\n",
       "      <td>29.0</td>\n",
       "      <td>0</td>\n",
       "      <td>4</td>\n",
       "      <td>349909</td>\n",
       "      <td>21.0750</td>\n",
       "      <td>G6</td>\n",
       "      <td>S</td>\n",
       "    </tr>\n",
       "    <tr>\n",
       "      <th>4</th>\n",
       "      <td>672</td>\n",
       "      <td>0</td>\n",
       "      <td>1</td>\n",
       "      <td>Davidson, Mr. Thornton</td>\n",
       "      <td>1</td>\n",
       "      <td>31.0</td>\n",
       "      <td>1</td>\n",
       "      <td>0</td>\n",
       "      <td>F.C. 12750</td>\n",
       "      <td>52.0000</td>\n",
       "      <td>B71</td>\n",
       "      <td>S</td>\n",
       "    </tr>\n",
       "  </tbody>\n",
       "</table>\n",
       "</div>"
      ],
      "text/plain": [
       "   PassengerId  Survived  Pclass                                         Name  \\\n",
       "0          343         0       2                   Collander, Mr. Erik Gustaf   \n",
       "1           76         0       3                      Moen, Mr. Sigurd Hansen   \n",
       "2          641         0       3                       Jensen, Mr. Hans Peder   \n",
       "3          568         0       3  Palsson, Mrs. Nils (Alma Cornelia Berglund)   \n",
       "4          672         0       1                       Davidson, Mr. Thornton   \n",
       "\n",
       "   Sex   Age  SibSp  Parch      Ticket     Fare  Cabin Embarked  \n",
       "0    1  28.0      0      0      248740  13.0000     G6        S  \n",
       "1    1  25.0      0      0      348123   7.6500  F G73        S  \n",
       "2    1  20.0      0      0      350050   7.8542     G6        S  \n",
       "3    0  29.0      0      4      349909  21.0750     G6        S  \n",
       "4    1  31.0      1      0  F.C. 12750  52.0000    B71        S  "
      ]
     },
     "execution_count": 1,
     "metadata": {},
     "output_type": "execute_result"
    }
   ],
   "source": [
    "# pretraitement des donnes\n",
    "\n",
    "import pandas as pd\n",
    "df = pd.read_csv(\"titanic-passengers.csv\", sep=\";\")\n",
    "df['Age'].fillna(df['Age'].mean(),inplace=True)\n",
    "df.replace({'Sex':{'male': 1,'female':0}},inplace=True)\n",
    "df['Cabin'] = df.Cabin.fillna('G6')\n",
    "df.replace({'Survived':{'Yes': 1,'No':0}},inplace=True)\n",
    "df.head()"
   ]
  },
  {
   "cell_type": "code",
   "execution_count": 8,
   "id": "7475ae77",
   "metadata": {},
   "outputs": [],
   "source": [
    "# on importe les bibliotheques a utiliser\n",
    "from sklearn.model_selection import train_test_split\n",
    "from sklearn import tree   \n",
    "from sklearn.tree import DecisionTreeClassifier,export_graphviz\n",
    "from sklearn.metrics import accuracy_score\n",
    "import graphviz\n",
    "import matplotlib.pyplot as plt\n",
    "\n",
    "#extraction des donnees\n",
    "feature=['PassengerId','Pclass','Sex','Age','SibSp','Parch','Fare']\n",
    "x=df.drop([\"Survived\", \"Name\", \"Cabin\", \"Ticket\", \"Embarked\"], axis=1)\n",
    "y= df[\"Survived\"]\n",
    "\n",
    "# on separe les donnees en donnees d'entrainement et de test\n",
    "x_train, x_test, y_train, y_test = train_test_split(x,y, test_size=0.20,random_state=10)\n"
   ]
  },
  {
   "cell_type": "code",
   "execution_count": 29,
   "id": "6b8fa277",
   "metadata": {},
   "outputs": [],
   "source": [
    "# on cree notre model\n",
    "tree_model=tree.DecisionTreeClassifier(criterion=\"gini\",splitter='best',max_depth=2)"
   ]
  },
  {
   "cell_type": "code",
   "execution_count": 33,
   "id": "d3252b88",
   "metadata": {},
   "outputs": [
    {
     "data": {
      "text/plain": [
       "DecisionTreeClassifier(max_depth=2)"
      ]
     },
     "execution_count": 33,
     "metadata": {},
     "output_type": "execute_result"
    }
   ],
   "source": [
    "# on applique le model au donnees d'entrainement\n",
    "tree_model.fit(x_train,y_train)"
   ]
  },
  {
   "cell_type": "code",
   "execution_count": 34,
   "id": "66efe751",
   "metadata": {},
   "outputs": [
    {
     "data": {
      "text/plain": [
       "0.770949720670391"
      ]
     },
     "execution_count": 34,
     "metadata": {},
     "output_type": "execute_result"
    }
   ],
   "source": [
    "# testons notre model\n",
    "tree_model.predict(x_test)\n",
    "tree_model.score(x_test,y_test)"
   ]
  },
  {
   "cell_type": "code",
   "execution_count": 35,
   "id": "0a28a56f",
   "metadata": {
    "scrolled": true
   },
   "outputs": [
    {
     "data": {
      "text/plain": [
       "[Text(167.4, 181.2, 'Sex <= 0.5\\ngini = 0.469\\nsamples = 712\\nvalue = [444, 268]'),\n",
       " Text(83.7, 108.72, 'Pclass <= 2.5\\ngini = 0.39\\nsamples = 252\\nvalue = [67, 185]'),\n",
       " Text(41.85, 36.23999999999998, 'gini = 0.1\\nsamples = 133\\nvalue = [7, 126]'),\n",
       " Text(125.55000000000001, 36.23999999999998, 'gini = 0.5\\nsamples = 119\\nvalue = [60, 59]'),\n",
       " Text(251.10000000000002, 108.72, 'Pclass <= 1.5\\ngini = 0.296\\nsamples = 460\\nvalue = [377, 83]'),\n",
       " Text(209.25, 36.23999999999998, 'gini = 0.461\\nsamples = 100\\nvalue = [64, 36]'),\n",
       " Text(292.95, 36.23999999999998, 'gini = 0.227\\nsamples = 360\\nvalue = [313, 47]')]"
      ]
     },
     "execution_count": 35,
     "metadata": {},
     "output_type": "execute_result"
    },
    {
     "data": {
      "image/png": "[encoded data removed]",
      "text/plain": [
       "<Figure size 432x288 with 1 Axes>"
      ]
     },
     "metadata": {
      "needs_background": "light"
     },
     "output_type": "display_data"
    }
   ],
   "source": [
    "# on trace l'arbre de decision \n",
    "tree.plot_tree(tree_model,filled=True,feature_names=feature)"
   ]
  },
  {
   "cell_type": "markdown",
   "id": "72fb3b6d",
   "metadata": {},
   "source": [
    "on constate que si Pclass est inferieur a 2.5 le passager peut survivre car la valeur de gini tres petit(0.1)"
   ]
  },
  {
   "cell_type": "code",
   "execution_count": 36,
   "id": "1b6b8718",
   "metadata": {},
   "outputs": [],
   "source": [
    "# changeons les parametres maintenant\n",
    "x1=df.drop([\"Survived\", \"Name\", \"Cabin\", \"Ticket\", \"Embarked\",\"Sex\",\"Parch\",\"PassengerId\",\"Pclass\"], axis=1)\n",
    "y1= df[\"Survived\"]\n",
    "\n",
    "# on separe les donnees en donnees d'entrainement et de test\n",
    "x1_train, x1_test, y1_train, y1_test = train_test_split(x,y, test_size=0.30,random_state=10)\n"
   ]
  },
  {
   "cell_type": "code",
   "execution_count": 37,
   "id": "deb05b35",
   "metadata": {},
   "outputs": [
    {
     "data": {
      "text/plain": [
       "DecisionTreeClassifier(max_depth=2)"
      ]
     },
     "execution_count": 37,
     "metadata": {},
     "output_type": "execute_result"
    }
   ],
   "source": [
    "# on applique le model au donnees d'entrainement\n",
    "tree_model.fit(x1_train,y1_train)"
   ]
  },
  {
   "cell_type": "code",
   "execution_count": 38,
   "id": "f23c9b8e",
   "metadata": {},
   "outputs": [
    {
     "data": {
      "text/plain": [
       "0.7961476725521669"
      ]
     },
     "execution_count": 38,
     "metadata": {},
     "output_type": "execute_result"
    }
   ],
   "source": [
    "tree_model.score(x1_train,y1_train)"
   ]
  },
  {
   "cell_type": "code",
   "execution_count": 39,
   "id": "1445e210",
   "metadata": {},
   "outputs": [
    {
     "data": {
      "text/plain": [
       "0.7873134328358209"
      ]
     },
     "execution_count": 39,
     "metadata": {},
     "output_type": "execute_result"
    }
   ],
   "source": [
    "# testons notre model\n",
    "tree_model.predict(x1_test)\n",
    "tree_model.score(x1_test,y1_test)"
   ]
  },
  {
   "cell_type": "markdown",
   "id": "830b6e28",
   "metadata": {},
   "source": [
    "en modifiant les parametres(on suprime les colonnes sexe et Pclass) on constate que la performance de notre model augmente"
   ]
  },
  {
   "cell_type": "code",
   "execution_count": 40,
   "id": "d0c76d54",
   "metadata": {},
   "outputs": [],
   "source": [
    "from sklearn import datasets\n",
    "from sklearn.ensemble import RandomForestClassifier\n",
    "from sklearn import metrics"
   ]
  },
  {
   "cell_type": "code",
   "execution_count": 41,
   "id": "a1e60e8a",
   "metadata": {},
   "outputs": [
    {
     "name": "stdout",
     "output_type": "stream",
     "text": [
      "Accuracy: 0.8324022346368715\n"
     ]
    }
   ],
   "source": [
    "clf=RandomForestClassifier(n_estimators=100)  #Creation d'un  random forest avec 100 decision trees\n",
    "clf.fit(x_train, y_train)  #entrainement de notre model\n",
    "y_pred=clf.predict(x_test)  #test de notre model\n",
    "print(\"Accuracy:\", metrics.accuracy_score(y_test, y_pred))  #Mesure de la performance de notre model"
   ]
  },
  {
   "cell_type": "code",
   "execution_count": 42,
   "id": "b082265d",
   "metadata": {},
   "outputs": [],
   "source": [
    "# Changeons le nombre d'estimateur\n",
    "# on utilise bagging methode\n",
    "from sklearn.ensemble import BaggingClassifier\n",
    "clf1=BaggingClassifier(tree.DecisionTreeClassifier(),max_samples=0.5,max_features=0.5,n_estimators=200)"
   ]
  },
  {
   "cell_type": "code",
   "execution_count": 43,
   "id": "daf788d0",
   "metadata": {},
   "outputs": [
    {
     "name": "stdout",
     "output_type": "stream",
     "text": [
      "0.8491620111731844\n"
     ]
    }
   ],
   "source": [
    "clf1.fit(x_train,y_train)\n",
    "z=clf1.predict(x_test)\n",
    "accuracy= clf1.score(x_test,y_test)\n",
    "print(accuracy)"
   ]
  },
  {
   "cell_type": "markdown",
   "id": "0085d8ac",
   "metadata": {},
   "source": [
    "on constate que la performance de notre model augmente parrapport au model precedant"
   ]
  }
 ],
 "metadata": {
  "kernelspec": {
   "display_name": "Python 3 (ipykernel)",
   "language": "python",
   "name": "python3"
  },
  "language_info": {
   "codemirror_mode": {
    "name": "ipython",
    "version": 3
   },
   "file_extension": ".py",
   "mimetype": "text/x-python",
   "name": "python",
   "nbconvert_exporter": "python",
   "pygments_lexer": "ipython3",
   "version": "3.9.7"
  }
 },
 "nbformat": 4,
 "nbformat_minor": 5
}
